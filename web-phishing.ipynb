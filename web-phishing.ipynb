{
 "cells": [
  {
   "cell_type": "code",
   "execution_count": 1,
   "metadata": {},
   "outputs": [],
   "source": [
    "import pandas as ps\n",
    "import numpy as np\n",
    "import matplotlib.pyplot as plt\n",
    "import seaborn as sns\n",
    "%matplotlib inline\n",
    "from sklearn.model_selection import train_test_split,cross_val_score\n",
    "from sklearn.metrics import classification_report, confusion_matrix\n",
    "from sklearn.metrics import accuracy_score\n",
    "import sklearn.metrics as metrics"
   ]
  },
  {
   "cell_type": "code",
   "execution_count": 2,
   "metadata": {},
   "outputs": [],
   "source": [
    "data=ps.read_csv('old.csv')"
   ]
  },
  {
   "cell_type": "code",
   "execution_count": 3,
   "metadata": {},
   "outputs": [
    {
     "name": "stdout",
     "output_type": "stream",
     "text": [
      "<class 'pandas.core.frame.DataFrame'>\n",
      "RangeIndex: 2456 entries, 0 to 2455\n",
      "Data columns (total 32 columns):\n",
      "id                             2456 non-null int64\n",
      "having_IP_Address              2456 non-null int64\n",
      "URL_Length                     2456 non-null int64\n",
      "Shortining_Service             2456 non-null int64\n",
      "having_At_Symbol               2456 non-null int64\n",
      "double_slash_redirecting       2456 non-null int64\n",
      "Prefix_Suffix                  2456 non-null int64\n",
      "having_Sub_Domain              2456 non-null int64\n",
      "SSLfinal_State                 2456 non-null int64\n",
      "Domain_registeration_length    2456 non-null int64\n",
      "Favicon                        2456 non-null int64\n",
      "port                           2456 non-null int64\n",
      "HTTPS_token                    2456 non-null int64\n",
      "Request_URL                    2456 non-null int64\n",
      "URL_of_Anchor                  2456 non-null int64\n",
      "Links_in_tags                  2456 non-null int64\n",
      "SFH                            2456 non-null int64\n",
      "Submitting_to_email            2456 non-null int64\n",
      "Abnormal_URL                   2456 non-null int64\n",
      "Redirect                       2456 non-null int64\n",
      "on_mouseover                   2456 non-null int64\n",
      "RightClick                     2456 non-null int64\n",
      "popUpWidnow                    2456 non-null int64\n",
      "Iframe                         2456 non-null int64\n",
      "age_of_domain                  2456 non-null int64\n",
      "DNSRecord                      2456 non-null int64\n",
      "web_traffic                    2456 non-null int64\n",
      "Page_Rank                      2456 non-null int64\n",
      "Google_Index                   2456 non-null int64\n",
      "Links_pointing_to_page         2456 non-null int64\n",
      "Statistical_report             2456 non-null int64\n",
      "Result                         2456 non-null int64\n",
      "dtypes: int64(32)\n",
      "memory usage: 614.1 KB\n"
     ]
    },
    {
     "data": {
      "text/html": [
       "<div>\n",
       "<style scoped>\n",
       "    .dataframe tbody tr th:only-of-type {\n",
       "        vertical-align: middle;\n",
       "    }\n",
       "\n",
       "    .dataframe tbody tr th {\n",
       "        vertical-align: top;\n",
       "    }\n",
       "\n",
       "    .dataframe thead th {\n",
       "        text-align: right;\n",
       "    }\n",
       "</style>\n",
       "<table border=\"1\" class=\"dataframe\">\n",
       "  <thead>\n",
       "    <tr style=\"text-align: right;\">\n",
       "      <th></th>\n",
       "      <th>id</th>\n",
       "      <th>having_IP_Address</th>\n",
       "      <th>URL_Length</th>\n",
       "      <th>Shortining_Service</th>\n",
       "      <th>having_At_Symbol</th>\n",
       "      <th>double_slash_redirecting</th>\n",
       "      <th>Prefix_Suffix</th>\n",
       "      <th>having_Sub_Domain</th>\n",
       "      <th>SSLfinal_State</th>\n",
       "      <th>Domain_registeration_length</th>\n",
       "      <th>...</th>\n",
       "      <th>popUpWidnow</th>\n",
       "      <th>Iframe</th>\n",
       "      <th>age_of_domain</th>\n",
       "      <th>DNSRecord</th>\n",
       "      <th>web_traffic</th>\n",
       "      <th>Page_Rank</th>\n",
       "      <th>Google_Index</th>\n",
       "      <th>Links_pointing_to_page</th>\n",
       "      <th>Statistical_report</th>\n",
       "      <th>Result</th>\n",
       "    </tr>\n",
       "  </thead>\n",
       "  <tbody>\n",
       "    <tr>\n",
       "      <th>0</th>\n",
       "      <td>1</td>\n",
       "      <td>1</td>\n",
       "      <td>1</td>\n",
       "      <td>0</td>\n",
       "      <td>0</td>\n",
       "      <td>1</td>\n",
       "      <td>-1</td>\n",
       "      <td>-1</td>\n",
       "      <td>-1</td>\n",
       "      <td>0</td>\n",
       "      <td>...</td>\n",
       "      <td>0</td>\n",
       "      <td>0</td>\n",
       "      <td>-1</td>\n",
       "      <td>1</td>\n",
       "      <td>-1</td>\n",
       "      <td>-1</td>\n",
       "      <td>0</td>\n",
       "      <td>1</td>\n",
       "      <td>1</td>\n",
       "      <td>1</td>\n",
       "    </tr>\n",
       "    <tr>\n",
       "      <th>1</th>\n",
       "      <td>2</td>\n",
       "      <td>0</td>\n",
       "      <td>1</td>\n",
       "      <td>0</td>\n",
       "      <td>0</td>\n",
       "      <td>0</td>\n",
       "      <td>-1</td>\n",
       "      <td>0</td>\n",
       "      <td>1</td>\n",
       "      <td>0</td>\n",
       "      <td>...</td>\n",
       "      <td>0</td>\n",
       "      <td>0</td>\n",
       "      <td>-1</td>\n",
       "      <td>1</td>\n",
       "      <td>0</td>\n",
       "      <td>-1</td>\n",
       "      <td>0</td>\n",
       "      <td>1</td>\n",
       "      <td>0</td>\n",
       "      <td>1</td>\n",
       "    </tr>\n",
       "    <tr>\n",
       "      <th>2</th>\n",
       "      <td>3</td>\n",
       "      <td>0</td>\n",
       "      <td>0</td>\n",
       "      <td>0</td>\n",
       "      <td>0</td>\n",
       "      <td>0</td>\n",
       "      <td>-1</td>\n",
       "      <td>-1</td>\n",
       "      <td>-1</td>\n",
       "      <td>0</td>\n",
       "      <td>...</td>\n",
       "      <td>0</td>\n",
       "      <td>0</td>\n",
       "      <td>0</td>\n",
       "      <td>1</td>\n",
       "      <td>1</td>\n",
       "      <td>-1</td>\n",
       "      <td>0</td>\n",
       "      <td>0</td>\n",
       "      <td>1</td>\n",
       "      <td>1</td>\n",
       "    </tr>\n",
       "    <tr>\n",
       "      <th>3</th>\n",
       "      <td>4</td>\n",
       "      <td>0</td>\n",
       "      <td>0</td>\n",
       "      <td>0</td>\n",
       "      <td>0</td>\n",
       "      <td>0</td>\n",
       "      <td>-1</td>\n",
       "      <td>-1</td>\n",
       "      <td>-1</td>\n",
       "      <td>1</td>\n",
       "      <td>...</td>\n",
       "      <td>0</td>\n",
       "      <td>0</td>\n",
       "      <td>-1</td>\n",
       "      <td>1</td>\n",
       "      <td>1</td>\n",
       "      <td>-1</td>\n",
       "      <td>0</td>\n",
       "      <td>-1</td>\n",
       "      <td>0</td>\n",
       "      <td>1</td>\n",
       "    </tr>\n",
       "    <tr>\n",
       "      <th>4</th>\n",
       "      <td>5</td>\n",
       "      <td>0</td>\n",
       "      <td>0</td>\n",
       "      <td>1</td>\n",
       "      <td>0</td>\n",
       "      <td>0</td>\n",
       "      <td>-1</td>\n",
       "      <td>1</td>\n",
       "      <td>1</td>\n",
       "      <td>0</td>\n",
       "      <td>...</td>\n",
       "      <td>1</td>\n",
       "      <td>0</td>\n",
       "      <td>-1</td>\n",
       "      <td>1</td>\n",
       "      <td>0</td>\n",
       "      <td>-1</td>\n",
       "      <td>0</td>\n",
       "      <td>1</td>\n",
       "      <td>0</td>\n",
       "      <td>-1</td>\n",
       "    </tr>\n",
       "  </tbody>\n",
       "</table>\n",
       "<p>5 rows × 32 columns</p>\n",
       "</div>"
      ],
      "text/plain": [
       "   id  having_IP_Address  URL_Length  Shortining_Service  having_At_Symbol  \\\n",
       "0   1                  1           1                   0                 0   \n",
       "1   2                  0           1                   0                 0   \n",
       "2   3                  0           0                   0                 0   \n",
       "3   4                  0           0                   0                 0   \n",
       "4   5                  0           0                   1                 0   \n",
       "\n",
       "   double_slash_redirecting  Prefix_Suffix  having_Sub_Domain  SSLfinal_State  \\\n",
       "0                         1             -1                 -1              -1   \n",
       "1                         0             -1                  0               1   \n",
       "2                         0             -1                 -1              -1   \n",
       "3                         0             -1                 -1              -1   \n",
       "4                         0             -1                  1               1   \n",
       "\n",
       "   Domain_registeration_length  ...  popUpWidnow  Iframe  age_of_domain  \\\n",
       "0                            0  ...            0       0             -1   \n",
       "1                            0  ...            0       0             -1   \n",
       "2                            0  ...            0       0              0   \n",
       "3                            1  ...            0       0             -1   \n",
       "4                            0  ...            1       0             -1   \n",
       "\n",
       "   DNSRecord  web_traffic  Page_Rank  Google_Index  Links_pointing_to_page  \\\n",
       "0          1           -1         -1             0                       1   \n",
       "1          1            0         -1             0                       1   \n",
       "2          1            1         -1             0                       0   \n",
       "3          1            1         -1             0                      -1   \n",
       "4          1            0         -1             0                       1   \n",
       "\n",
       "   Statistical_report  Result  \n",
       "0                   1       1  \n",
       "1                   0       1  \n",
       "2                   1       1  \n",
       "3                   0       1  \n",
       "4                   0      -1  \n",
       "\n",
       "[5 rows x 32 columns]"
      ]
     },
     "execution_count": 3,
     "metadata": {},
     "output_type": "execute_result"
    }
   ],
   "source": [
    "# veri seti ile işlem yapmak için çektik. veri seti hakkında bilgi edindik ve ilk 5 satırını gördük\n",
    "data.info()\n",
    "data.head()"
   ]
  },
  {
   "cell_type": "markdown",
   "metadata": {},
   "source": [
    "Verinin işlenmesi için sınırlara ayırmamız lazım. Result sütunu bağımsız değişkenimiz olur. id sütunu değişkenler arasına girmez. Diğer bütün sütunlar bağımlı değişken olup sonuç sütunu olan Result'u belirlemek için kullanılır."
   ]
  },
  {
   "cell_type": "code",
   "execution_count": 4,
   "metadata": {},
   "outputs": [],
   "source": [
    "X=data.values[:,1:31]\n",
    "y=data.values[:, -1:]"
   ]
  },
  {
   "cell_type": "code",
   "execution_count": 5,
   "metadata": {},
   "outputs": [],
   "source": [
    "#Hold-out Metodu için eğitim ve test sınıflarımızı belirleyelim\n",
    "from sklearn.model_selection import train_test_split\n",
    "X_train, X_test, y_train, y_test = train_test_split(X, y, test_size=0.3)"
   ]
  },
  {
   "cell_type": "markdown",
   "metadata": {},
   "source": [
    "KNN algoritması veri madenciliğinde kullanılan en kolay\n",
    "algoritmalardan birisidir. KNN algoritmasının çalışma\n",
    "mantığı, nesnelerin birbirleri arasında yakınlık ilişkilerine\n",
    "göre kümeleme işlemi yapmaktadır. Doğrusal ayrıştırma\n",
    "yöntemi ile koordinat düzleminde çalışırlar. KNN, Basit bir\n",
    "makine öğrenme algoritmasıdır. Küçük veri setine sahip\n",
    "projelerde yeterince iyi sonuçlar verebilmektedir ancak büyük\n",
    "veriler üzerinde işlemler yaparken zaman anlamında uzun\n",
    "sürelerde işlemleri tamamladığı için genellikle küçük\n",
    "projeler de tercih edilir. burda knn için iki metot uygulanmıştır. cross validation daha iyi sonuç vermiştir. yapılan literatür çalışmasında knn için %90 ve %86 bulgularına ulaşılmıştır. Bizim çalışmamızda ise %94.625 ile daha iyi sonuç elde eidlmiştir"
   ]
  },
  {
   "cell_type": "code",
   "execution_count": 6,
   "metadata": {},
   "outputs": [
    {
     "name": "stdout",
     "output_type": "stream",
     "text": [
      "KNN için tahmin: 94.625\n"
     ]
    }
   ],
   "source": [
    "#KNN Cross-velidation Metodu ile uygulama\n",
    "from sklearn.neighbors import KNeighborsClassifier\n",
    "sınıflandırıcı=KNeighborsClassifier(n_neighbors=3)\n",
    "tahmin=cross_val_score(sınıflandırıcı, X, y, cv=5, scoring='accuracy',n_jobs=-1)\n",
    "print(\"KNN için tahmin: {:.3f}\" .format(tahmin.mean()*100))"
   ]
  },
  {
   "cell_type": "code",
   "execution_count": 7,
   "metadata": {},
   "outputs": [
    {
     "name": "stdout",
     "output_type": "stream",
     "text": [
      "KNN  için tahmin: 93.623\n"
     ]
    },
    {
     "name": "stderr",
     "output_type": "stream",
     "text": [
      "C:\\Users\\Lenovo\\Anaconda\\lib\\site-packages\\ipykernel_launcher.py:4: DataConversionWarning: A column-vector y was passed when a 1d array was expected. Please change the shape of y to (n_samples, ), for example using ravel().\n",
      "  after removing the cwd from sys.path.\n"
     ]
    }
   ],
   "source": [
    "#KNN Hold-out Metodu ile uygulama\n",
    "from sklearn.neighbors import KNeighborsClassifier\n",
    "sınıflandırıcı=KNeighborsClassifier(n_neighbors=3)\n",
    "sınıflandırıcı.fit(X_train, y_train)\n",
    "tahmin=sınıflandırıcı.predict(X_test)\n",
    "print(\"KNN  için tahmin: {:.3f}\" .format(accuracy_score(y_test, tahmin)*100))"
   ]
  },
  {
   "cell_type": "markdown",
   "metadata": {},
   "source": [
    "Yapay sinir ağları popüler bir makine öğrenmesi\n",
    "algoritmasıdır. Yapay sinir ağları insan beyni gibi\n",
    "sistemlerden esinlenerek sinir hücrelerinin basit bir şekilde\n",
    "modellenmesi sonucu oluşur. Yapay sinir ağları, ağırlıklı\n",
    "bağlantılar aracılığıyla birbirine bağlanan ve her biri kendi\n",
    "belleğine sahip işlem elemanlarından oluşan paralel ve\n",
    "dağıtılmış bilgi işleme yapılarıdır. Genel olarak yapay sinir\n",
    "ağları, model seçimi ve sınıflandırılması, işlev tahmini, en\n",
    "uygun değeri bulma ve veri sınıflandırması gibi işlerde\n",
    "başarılıdır. bu algoritma içinde iki yöntem kullanılmıştır, yapılan literatür araştırmasında başarım oranı %86 bulgusuna ulaşılmıştır. Biz ise %97 ile daha iyi bir sonuç elde ettik."
   ]
  },
  {
   "cell_type": "code",
   "execution_count": 8,
   "metadata": {},
   "outputs": [
    {
     "name": "stderr",
     "output_type": "stream",
     "text": [
      "C:\\Users\\Lenovo\\Anaconda\\lib\\site-packages\\sklearn\\neural_network\\multilayer_perceptron.py:921: DataConversionWarning: A column-vector y was passed when a 1d array was expected. Please change the shape of y to (n_samples, ), for example using ravel().\n",
      "  y = column_or_1d(y, warn=True)\n"
     ]
    },
    {
     "name": "stdout",
     "output_type": "stream",
     "text": [
      "MLP  için tahmin: 95.522\n"
     ]
    },
    {
     "name": "stderr",
     "output_type": "stream",
     "text": [
      "C:\\Users\\Lenovo\\Anaconda\\lib\\site-packages\\sklearn\\neural_network\\multilayer_perceptron.py:566: ConvergenceWarning: Stochastic Optimizer: Maximum iterations (200) reached and the optimization hasn't converged yet.\n",
      "  % self.max_iter, ConvergenceWarning)\n"
     ]
    }
   ],
   "source": [
    "#ANN Hold-out Metodu ile uygulama\n",
    "from sklearn.neural_network import MLPClassifier\n",
    "sınıflandırıcı=MLPClassifier()\n",
    "sınıflandırıcı.fit(X_train, y_train)\n",
    "tahmin=sınıflandırıcı.predict(X_test)\n",
    "print(\"MLP  için tahmin: {:.3f}\" .format(accuracy_score(y_test, tahmin)*100))"
   ]
  },
  {
   "cell_type": "code",
   "execution_count": 9,
   "metadata": {},
   "outputs": [
    {
     "name": "stdout",
     "output_type": "stream",
     "text": [
      "MLP için tahmin: 97.068\n"
     ]
    }
   ],
   "source": [
    "#ANN Cross-velidation Metodu ile uygulama\n",
    "from sklearn.neural_network import MLPClassifier\n",
    "sınıflandırıcı=MLPClassifier()\n",
    "tahmin=cross_val_score(sınıflandırıcı, X, y, cv=5, scoring='accuracy',n_jobs=-1)\n",
    "print(\"MLP için tahmin: {:.3f}\" .format(tahmin.mean()*100))"
   ]
  },
  {
   "cell_type": "markdown",
   "metadata": {},
   "source": [
    "Bagging algoritması var olan bir eğitim setinden yeni eğitim\n",
    "setleri türeterek temel öğreniciyi yeniden eğitmeyi amaçlayan\n",
    "bir algoritmadır. yapılan literatür çalışmasında herhangi bir çalışmaya rastlanmamış karşılaştırma için bu algoritma kullanılmıştır başarım oranı ise %97.597 ile iyi bir sonuç elde edilmiştir."
   ]
  },
  {
   "cell_type": "code",
   "execution_count": 10,
   "metadata": {},
   "outputs": [
    {
     "name": "stdout",
     "output_type": "stream",
     "text": [
      "Bagging  için tahmin: 96.201\n"
     ]
    },
    {
     "name": "stderr",
     "output_type": "stream",
     "text": [
      "C:\\Users\\Lenovo\\Anaconda\\lib\\site-packages\\sklearn\\ensemble\\bagging.py:623: DataConversionWarning: A column-vector y was passed when a 1d array was expected. Please change the shape of y to (n_samples, ), for example using ravel().\n",
      "  y = column_or_1d(y, warn=True)\n"
     ]
    }
   ],
   "source": [
    "#Bagging Hold-out Metodu ile uygulama\n",
    "from sklearn.ensemble import BaggingClassifier\n",
    "sınıflandırıcı=BaggingClassifier()\n",
    "sınıflandırıcı.fit(X_train, y_train)\n",
    "tahmin=sınıflandırıcı.predict(X_test)\n",
    "print(\"Bagging  için tahmin: {:.3f}\" .format(accuracy_score(y_test, tahmin)*100))"
   ]
  },
  {
   "cell_type": "code",
   "execution_count": 11,
   "metadata": {},
   "outputs": [
    {
     "name": "stdout",
     "output_type": "stream",
     "text": [
      "Bagging için tahmin: 97.597\n"
     ]
    }
   ],
   "source": [
    "#Bagging Cross-velidation Metodu ile uygulama\n",
    "from sklearn.ensemble import BaggingClassifier\n",
    "sınıflandırıcı=BaggingClassifier()\n",
    "tahmin=cross_val_score(sınıflandırıcı, X, y, cv=5, scoring='accuracy',n_jobs=-1)\n",
    "print(\"Bagging için tahmin: {:.3f}\" .format(tahmin.mean()*100))#SVM Hold-out Metodu ile uygulama\n"
   ]
  },
  {
   "cell_type": "markdown",
   "metadata": {},
   "source": [
    "Bagging ile aynı mantığı taşımaktadır yapılan literatür çalışmasında sadece adabost'a rastlanmıştır onda da doğruluk oranı %84 olmuştur. Biz iki farklı metot kullanarak çalışma yaptık ve cross validation metodu %95.888 ile daha iyi bir sonuç verdi "
   ]
  },
  {
   "cell_type": "code",
   "execution_count": 12,
   "metadata": {},
   "outputs": [
    {
     "name": "stdout",
     "output_type": "stream",
     "text": [
      "boosting için tahmin: 95.888\n"
     ]
    }
   ],
   "source": [
    "#Boosting Cross-velidation Metodu ile uygulama\n",
    "from sklearn.ensemble import GradientBoostingClassifier\n",
    "sınıflandırıcı=GradientBoostingClassifier()\n",
    "tahmin=cross_val_score(sınıflandırıcı, X, y, cv=5, scoring='accuracy',n_jobs=-1)\n",
    "print(\"boosting için tahmin: {:.3f}\" .format(tahmin.mean()*100))#SVM Hold-out Metodu ile uygulama\n"
   ]
  },
  {
   "cell_type": "code",
   "execution_count": 13,
   "metadata": {},
   "outputs": [
    {
     "name": "stderr",
     "output_type": "stream",
     "text": [
      "C:\\Users\\Lenovo\\Anaconda\\lib\\site-packages\\sklearn\\ensemble\\gradient_boosting.py:1450: DataConversionWarning: A column-vector y was passed when a 1d array was expected. Please change the shape of y to (n_samples, ), for example using ravel().\n",
      "  y = column_or_1d(y, warn=True)\n"
     ]
    },
    {
     "name": "stdout",
     "output_type": "stream",
     "text": [
      "Boosting  için tahmin: 95.522\n"
     ]
    }
   ],
   "source": [
    "#Boosting Hold-out Metodu ile uygulama\n",
    "from sklearn.ensemble import GradientBoostingClassifier\n",
    "sınıflandırıcı=GradientBoostingClassifier()\n",
    "sınıflandırıcı.fit(X_train, y_train)\n",
    "tahmin=sınıflandırıcı.predict(X_test)\n",
    "print(\"Boosting  için tahmin: {:.3f}\" .format(accuracy_score(y_test, tahmin)*100))"
   ]
  },
  {
   "cell_type": "markdown",
   "metadata": {},
   "source": [
    "Destek Vektör Makineleri, temel olarak iki sınıfı ayıran en\n",
    "iyi çizgiyi bulmaya çalışır. Bunun için karar sınırları ya da\n",
    "diğer bir deyişle hiper düzlemler belirlenir. İki farklı metot kullanarak sonuç elde ettik. hold-out metodu %95.658 ile daha iyi sonuç verdi. Yapılan literatür çalışmasında ise %88 ve %71 sonuçlarına ulaşıldı."
   ]
  },
  {
   "cell_type": "code",
   "execution_count": 14,
   "metadata": {},
   "outputs": [
    {
     "name": "stdout",
     "output_type": "stream",
     "text": [
      "SVM   için tahmin: 94.437\n"
     ]
    },
    {
     "name": "stderr",
     "output_type": "stream",
     "text": [
      "C:\\Users\\Lenovo\\Anaconda\\lib\\site-packages\\sklearn\\utils\\validation.py:724: DataConversionWarning: A column-vector y was passed when a 1d array was expected. Please change the shape of y to (n_samples, ), for example using ravel().\n",
      "  y = column_or_1d(y, warn=True)\n",
      "C:\\Users\\Lenovo\\Anaconda\\lib\\site-packages\\sklearn\\svm\\base.py:193: FutureWarning: The default value of gamma will change from 'auto' to 'scale' in version 0.22 to account better for unscaled features. Set gamma explicitly to 'auto' or 'scale' to avoid this warning.\n",
      "  \"avoid this warning.\", FutureWarning)\n"
     ]
    }
   ],
   "source": [
    "#SVM Hold-out Metodu ile uygulama\n",
    "from sklearn import svm\n",
    "sınıflandırıcı=svm.SVC()\n",
    "sınıflandırıcı.fit(X_train, y_train)\n",
    "tahmin=sınıflandırıcı.predict(X_test)\n",
    "print(\"SVM   için tahmin: {:.3f}\" .format(accuracy_score(y_test, tahmin)*100))"
   ]
  },
  {
   "cell_type": "code",
   "execution_count": 15,
   "metadata": {},
   "outputs": [
    {
     "name": "stdout",
     "output_type": "stream",
     "text": [
      "SVM  için tahmin: 95.032\n"
     ]
    }
   ],
   "source": [
    "#SVM Cross-velidation Metodu ile uygulama\n",
    "from sklearn import svm\n",
    "sınıflandırıcı=svm.SVC()\n",
    "tahmin=cross_val_score(sınıflandırıcı, X, y, cv=5, scoring='accuracy',n_jobs=-1)\n",
    "print(\"SVM  için tahmin: {:.3f}\" .format(tahmin.mean()*100))"
   ]
  },
  {
   "cell_type": "markdown",
   "metadata": {},
   "source": [
    "Topluluk öğrenme yöntemi olan Random Forest algoritması,\n",
    "sınıflandırma işlemi sırasında birden fazla karar ağacı üreterek sınıflandırma değerini yükseltmeyi amaçlayan bir\n",
    "algoritmadır. Bu algoritmada da gene iki farklı metot kullanıldı ve cross validation metodunda %97.882 ile daha iyi sonuç elde edildi. Yapılan literatür çalışmasında %51 %95 ve %87 ile sonuçlar alındı biz bu çalışmada daha iyi sonuç elde ettik."
   ]
  },
  {
   "cell_type": "code",
   "execution_count": 16,
   "metadata": {},
   "outputs": [
    {
     "name": "stdout",
     "output_type": "stream",
     "text": [
      "Random Forest  için tahmin: 96.201\n"
     ]
    },
    {
     "name": "stderr",
     "output_type": "stream",
     "text": [
      "C:\\Users\\Lenovo\\Anaconda\\lib\\site-packages\\sklearn\\ensemble\\forest.py:245: FutureWarning: The default value of n_estimators will change from 10 in version 0.20 to 100 in 0.22.\n",
      "  \"10 in version 0.20 to 100 in 0.22.\", FutureWarning)\n",
      "C:\\Users\\Lenovo\\Anaconda\\lib\\site-packages\\ipykernel_launcher.py:4: DataConversionWarning: A column-vector y was passed when a 1d array was expected. Please change the shape of y to (n_samples,), for example using ravel().\n",
      "  after removing the cwd from sys.path.\n"
     ]
    }
   ],
   "source": [
    "#Random Forest Hold-out Metodu ile uygulama\n",
    "from sklearn.ensemble import RandomForestClassifier\n",
    "sınıflandırıcı=RandomForestClassifier()\n",
    "sınıflandırıcı.fit(X_train, y_train)\n",
    "tahmin=sınıflandırıcı.predict(X_test)\n",
    "print(\"Random Forest  için tahmin: {:.3f}\" .format(accuracy_score(y_test, tahmin)*100))"
   ]
  },
  {
   "cell_type": "code",
   "execution_count": 17,
   "metadata": {},
   "outputs": [
    {
     "name": "stdout",
     "output_type": "stream",
     "text": [
      "Random Forest için tahmin: 97.882\n"
     ]
    }
   ],
   "source": [
    "#Random Forest Cross-velidation Metodu ile uygulama\n",
    "from sklearn.ensemble import RandomForestClassifier\n",
    "sınıflandırıcı=RandomForestClassifier()\n",
    "tahmin=cross_val_score(sınıflandırıcı, X, y, cv=5, scoring='accuracy',n_jobs=-1)\n",
    "print(\"Random Forest için tahmin: {:.3f}\" .format(tahmin.mean()*100))"
   ]
  },
  {
   "cell_type": "markdown",
   "metadata": {},
   "source": [
    "Decision Tree algoritması, daha önceden tanımlanmış hedef\n",
    "değişkene sahiptirler. Yapıları nedeniyle en yukardan aşağıya\n",
    "doğru inen bir strateji sunar. Karar ağacı fazla, fazla sayıda kayıt içeren veri setlerini bir\n",
    "dizi karar kuralı uygulayarak küçük kayıt gruplarına bölerek\n",
    "kullanır. Hold-out metodu cros validation'a göre çok küçük bir farkla daha iyi bir sonuç verdi. yapılan litertür çalışmasında %87 sonucuna ulaşıldı. Biz ise bu çalışmamızda %97.558 ile daha iyi sonuç elde ettik."
   ]
  },
  {
   "cell_type": "code",
   "execution_count": 18,
   "metadata": {},
   "outputs": [
    {
     "name": "stdout",
     "output_type": "stream",
     "text": [
      "Karar Ağacı   için tahmin: 95.115\n"
     ]
    }
   ],
   "source": [
    "#Decision Tree Hold-out Metodu ile uygulama\n",
    "from sklearn.tree import DecisionTreeClassifier\n",
    "sınıflandırıcı=DecisionTreeClassifier()\n",
    "sınıflandırıcı.fit(X_train, y_train)\n",
    "tahmin=sınıflandırıcı.predict(X_test)\n",
    "print(\"Karar Ağacı   için tahmin: {:.3f}\" .format(accuracy_score(y_test, tahmin)*100))"
   ]
  },
  {
   "cell_type": "code",
   "execution_count": 19,
   "metadata": {},
   "outputs": [
    {
     "name": "stdout",
     "output_type": "stream",
     "text": [
      "Karar Ağacı  için tahmin: 97.475\n"
     ]
    }
   ],
   "source": [
    "#Decision Tree Cross-velidation Metodu ile uygulama\n",
    "from sklearn.tree import DecisionTreeClassifier\n",
    "sınıflandırıcı=DecisionTreeClassifier()\n",
    "tahmin=cross_val_score(sınıflandırıcı, X, y, cv=5, scoring='accuracy',n_jobs=-1)\n",
    "print(\"Karar Ağacı  için tahmin: {:.3f}\" .format(tahmin.mean()*100))"
   ]
  },
  {
   "cell_type": "markdown",
   "metadata": {},
   "source": [
    "Logistic regression lineer modeller içerisinde bulunan tahmin kütüphanelerinden biridir. Kütüphane çağrımı yapılır ve içerisinden bir nesne türetilir. Daha önce ayrılmış olan veri fit komutuyla işlenir ve beklenen değerle karşılaştırılır. Confusion Matrix modelin performansını değerlendirmek için kullanılan bir yöntemdir. Bu yöntemi görselleştiredebiliriz. Bu modelin sonucu ise %94.97964721845319 sonuç ortaya koymuştur. yapılan literatür çalışmasında %93 sonucuna ulaşılmıştır. Bizim çalışmamız küçük bir farkla daha iyi sonuç vermiştir."
   ]
  },
  {
   "cell_type": "code",
   "execution_count": 20,
   "metadata": {},
   "outputs": [
    {
     "name": "stderr",
     "output_type": "stream",
     "text": [
      "C:\\Users\\Lenovo\\Anaconda\\lib\\site-packages\\sklearn\\linear_model\\logistic.py:432: FutureWarning: Default solver will be changed to 'lbfgs' in 0.22. Specify a solver to silence this warning.\n",
      "  FutureWarning)\n",
      "C:\\Users\\Lenovo\\Anaconda\\lib\\site-packages\\sklearn\\utils\\validation.py:724: DataConversionWarning: A column-vector y was passed when a 1d array was expected. Please change the shape of y to (n_samples, ), for example using ravel().\n",
      "  y = column_or_1d(y, warn=True)\n"
     ]
    },
    {
     "name": "stdout",
     "output_type": "stream",
     "text": [
      "Accuracy: 0.9430122116689281\n"
     ]
    },
    {
     "data": {
      "image/png": "[encoded data removed]",
      "text/plain": [
       "<Figure size 432x288 with 2 Axes>"
      ]
     },
     "metadata": {
      "needs_background": "light"
     },
     "output_type": "display_data"
    }
   ],
   "source": [
    "from sklearn.linear_model import LogisticRegression\n",
    "\n",
    "# varsayılan parametrelei kullanarak model başlatılır\n",
    "logreg = LogisticRegression()\n",
    "\n",
    "# veri modele aktarılır\n",
    "logreg.fit(X_train,y_train)\n",
    "\n",
    "#beklenen değer\n",
    "y_pred=logreg.predict(X_test)\n",
    "\n",
    "cnf_matrix = metrics.confusion_matrix(y_test, y_pred)\n",
    "cnf_matrix\n",
    "\n",
    "class_names=[0,1] # name  of classes\n",
    "fig, ax = plt.subplots()\n",
    "tick_marks = np.arange(len(class_names))\n",
    "plt.xticks(tick_marks, class_names)\n",
    "plt.yticks(tick_marks, class_names)\n",
    "# create heatmap\n",
    "sns.heatmap(ps.DataFrame(cnf_matrix), annot=True, cmap=\"YlGnBu\" ,fmt='g')\n",
    "ax.xaxis.set_label_position(\"top\")\n",
    "plt.tight_layout()\n",
    "plt.title('Confusion matrix', y=1.1)\n",
    "plt.ylabel('gerçek değer')\n",
    "plt.xlabel('tahmin edilen değer')\n",
    "\n",
    "print(\"Accuracy:\",metrics.accuracy_score(y_test, y_pred))"
   ]
  },
  {
   "cell_type": "code",
   "execution_count": null,
   "metadata": {},
   "outputs": [],
   "source": []
  }
 ],
 "metadata": {
  "kernelspec": {
   "display_name": "Python 3",
   "language": "python",
   "name": "python3"
  },
  "language_info": {
   "codemirror_mode": {
    "name": "ipython",
    "version": 3
   },
   "file_extension": ".py",
   "mimetype": "text/x-python",
   "name": "python",
   "nbconvert_exporter": "python",
   "pygments_lexer": "ipython3",
   "version": "3.7.3"
  }
 },
 "nbformat": 4,
 "nbformat_minor": 2
}
